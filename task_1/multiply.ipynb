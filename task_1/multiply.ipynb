{
 "cells": [
  {
   "cell_type": "code",
   "execution_count": 1,
   "id": "urban-renaissance",
   "metadata": {},
   "outputs": [],
   "source": [
    "import random\n",
    "import numpy as np\n",
    "import time"
   ]
  },
  {
   "cell_type": "markdown",
   "id": "acknowledged-crazy",
   "metadata": {},
   "source": [
    "Create matrix from random number;"
   ]
  },
  {
   "cell_type": "code",
   "execution_count": 9,
   "id": "psychological-equation",
   "metadata": {},
   "outputs": [],
   "source": [
    "def create_matrix(row, colomn):\n",
    "    matrix = []\n",
    "    for i in range(row):\n",
    "        row_matrix=[]\n",
    "        for j in range(colomn):\n",
    "            random_number = random.randint(1, 10) \n",
    "            row_matrix.append(random_number)\n",
    "        matrix.append(row_matrix)\n",
    "        row_metrix= []\n",
    "    return matrix"
   ]
  },
  {
   "cell_type": "markdown",
   "id": "friendly-bidder",
   "metadata": {},
   "source": [
    "Standart multiplication of matrix;"
   ]
  },
  {
   "cell_type": "code",
   "execution_count": 23,
   "id": "wanted-antenna",
   "metadata": {},
   "outputs": [],
   "source": [
    "def matrix_mult(matrix_1,matrix_2):\n",
    "    if len(matrix_1) != len(matrix_2[0]):\n",
    "        print('Matrix size is invalid')\n",
    "    mult = []\n",
    "    for z in range(len(matrix_1)):\n",
    "        t = []\n",
    "        for j in range(len(matrix_2[0])):\n",
    "            s = sum([matrix_1[z][i] * matrix_2[i][j] for i in range(len(matrix_1[0])) ])\n",
    "            t.append(s)\n",
    "        mult.append(t)\n",
    "    return res_mtrx"
   ]
  },
  {
   "cell_type": "markdown",
   "id": "metric-scope",
   "metadata": {},
   "source": [
    "Multiplication using zip-function"
   ]
  },
  {
   "cell_type": "code",
   "execution_count": 46,
   "id": "likely-miller",
   "metadata": {},
   "outputs": [],
   "source": [
    "def matmult(a,b):\n",
    "    zip_b = zip(*b)\n",
    "    zip_b = list(zip_b)\n",
    "    return [[sum(ele_a*ele_b for ele_a, ele_b in zip(row_a, col_b)) \n",
    "             for col_b in zip_b] for row_a in a]"
   ]
  },
  {
   "cell_type": "code",
   "execution_count": 54,
   "id": "gross-dining",
   "metadata": {},
   "outputs": [],
   "source": [
    "#count of row and colomn\n",
    "row = 100\n",
    "colomn = 100\n",
    "#create matrix for 100 row and 100-colomn from random number\n",
    "matrix_1 = create_matrix(row, colomn)\n",
    "matrix_2 = create_matrix(row, colomn)\n",
    "#create numpy array\n",
    "np_matrix_1 = np.array(matrix_1)\n",
    "np_matrix_2 = np.array(matrix_2)\n"
   ]
  },
  {
   "cell_type": "markdown",
   "id": "muslim-sunglasses",
   "metadata": {},
   "source": [
    "Multiplication using zip-func;"
   ]
  },
  {
   "cell_type": "code",
   "execution_count": 55,
   "id": "listed-utilization",
   "metadata": {},
   "outputs": [
    {
     "name": "stdout",
     "output_type": "stream",
     "text": [
      "Time: 0.13350987434387207\n"
     ]
    }
   ],
   "source": [
    "start_time = time.time()\n",
    "res_mtrx = matmult(matrix_1, matrix_2)\n",
    "print(\"Time:\" , (time.time() - start_time))"
   ]
  },
  {
   "cell_type": "markdown",
   "id": "uniform-electric",
   "metadata": {},
   "source": [
    "Standart multimplication"
   ]
  },
  {
   "cell_type": "code",
   "execution_count": 56,
   "id": "norman-jacket",
   "metadata": {},
   "outputs": [
    {
     "name": "stdout",
     "output_type": "stream",
     "text": [
      "Time: 0.2933962345123291\n"
     ]
    }
   ],
   "source": [
    "start_time = time.time()\n",
    "res_mtrx = matrix_mult(mtrx_1, mtrx_2)\n",
    "print(\"Time:\", (time.time() - start_time))"
   ]
  },
  {
   "cell_type": "markdown",
   "id": "amended-contents",
   "metadata": {},
   "source": [
    "Numpy multiplication"
   ]
  },
  {
   "cell_type": "code",
   "execution_count": 57,
   "id": "criminal-spanking",
   "metadata": {},
   "outputs": [
    {
     "name": "stdout",
     "output_type": "stream",
     "text": [
      "Time: 0.0009987354278564453\n"
     ]
    }
   ],
   "source": [
    "start_time_np = time.time()\n",
    "res_mtrx_np = mtrx_np_1.dot(mtrx_2)\n",
    "print(\"Time:\" ,(time.time() - start_time_np))"
   ]
  }
 ],
 "metadata": {
  "kernelspec": {
   "display_name": "Python 3",
   "language": "python",
   "name": "python3"
  },
  "language_info": {
   "codemirror_mode": {
    "name": "ipython",
    "version": 3
   },
   "file_extension": ".py",
   "mimetype": "text/x-python",
   "name": "python",
   "nbconvert_exporter": "python",
   "pygments_lexer": "ipython3",
   "version": "3.8.0"
  }
 },
 "nbformat": 4,
 "nbformat_minor": 5
}
