{
  "cells":[
    {
      "cell_type":"code",
      "source":[
        "import numpy as np\n",
        "import pandas as pd\n",
        "import matplotlib.pyplot as plt\n",
        "%matplotlib inline"
      ],
      "execution_count":34,
      "outputs":[
        
      ],
      "metadata":{
        
      }
    },
    {
      "cell_type":"code",
      "source":[
        "def load_datasets(filename, data_columns, target_column):\n",
        "    df = pd.read_csv(filename)\n",
        "    X, y = df[data_columns], df[target_column]\n",
        "    return X, y"
      ],
      "execution_count":35,
      "outputs":[
        
      ],
      "metadata":{
        
      }
    },
    {
      "cell_type":"code",
      "source":[
        "def plot_data(A, b, test = False):\n",
        "    positive_indices = np.where(b == 1)[0]\n",
        "    negative_indices = np.where(b == 0)[0]\n",
        "    \n",
        "    plt.scatter(A.iloc[positive_indices, 0], A.iloc[positive_indices, 1], marker='x', c= 'yellow' if test else 'green')\n",
        "    plt.scatter(A.iloc[negative_indices, 0], A.iloc[negative_indices, 1], marker='+', c= 'blue' if test else 'red')"
      ],
      "execution_count":36,
      "outputs":[
        
      ],
      "metadata":{
        
      }
    },
    {
      "cell_type":"code",
      "source":[
        "def decision_boundary(X, y, mean, std, theta):\n",
        "    X =(X-mean)\/std;\n",
        "    positive_indices = np.where(y == 1)[0]\n",
        "    negative_indices = np.where(y == 0)[0]\n",
        "    plt.scatter(X.iloc[positive_indices, 0], X.iloc[positive_indices, 1], marker='*', c= 'blue')\n",
        "    plt.scatter(X.iloc[negative_indices, 0], X.iloc[negative_indices, 1], marker='^', c= 'red')"
      ],
      "execution_count":56,
      "outputs":[
        
      ],
      "metadata":{
        
      }
    },
    {
      "cell_type":"code",
      "source":[
        "def normalize(X):\n",
        "    mean = np.mean(X,axis=0);\n",
        "    std = np.std(X,axis=0);\n",
        "    X_new = (X-mean)\/std;\n",
        "    return X_new, mean, std"
      ],
      "execution_count":38,
      "outputs":[
        
      ],
      "metadata":{
        
      }
    },
    {
      "cell_type":"code",
      "source":[
        "def prepare_X(X):\n",
        "    m = X.shape[0]\n",
        "    ones = np.ones((m, 1))\n",
        "    X_new = np.column_stack((ones, X))\n",
        "    return X_new"
      ],
      "execution_count":39,
      "outputs":[
        
      ],
      "metadata":{
        
      }
    },
    {
      "cell_type":"code",
      "source":[
        "def sigmoid(z):\n",
        "    g = 1\/(1+np.exp(z*-1));\n",
        "    return g"
      ],
      "execution_count":40,
      "outputs":[
        
      ],
      "metadata":{
        
      }
    },
    {
      "cell_type":"code",
      "source":[
        "def h(X, theta):\n",
        "    # X - матриця\n",
        "    # theta - вектор\n",
        "    z = X.dot(theta)\n",
        "    return sigmoid(z)"
      ],
      "execution_count":41,
      "outputs":[
        
      ],
      "metadata":{
        
      }
    },
    {
      "cell_type":"code",
      "source":[
        "def cost_function(X, y, theta):\n",
        "    m = X.shape[0]\n",
        "    if m ==0:\n",
        "        return None\n",
        "    J = sum( (1-y)*np.log(1-h(X,theta))+(-1)*y*np.log(h(X,theta)))\/m;\n",
        "    return J"
      ],
      "execution_count":42,
      "outputs":[
        
      ],
      "metadata":{
        
      }
    },
    {
      "cell_type":"code",
      "source":[
        "def derivative_theta(X, y, theta):\n",
        "    m = X.shape[0]\n",
        "    if m == 0:\n",
        "        return None\n",
        "    d_theta = X_new.T.dot(h(X_new,theta) - y_new)\/m;\n",
        "    return d_theta"
      ],
      "execution_count":43,
      "outputs":[
        
      ],
      "metadata":{
        
      }
    },
    {
      "cell_type":"code",
      "source":[
        "def gradient_descent(X, y, theta, alpha, epsilon, num_iters, print_J = True):\n",
        "    m = X.shape[0]\n",
        "    J_history = []\n",
        "    J = cost_function(X,y,theta);\n",
        "    \n",
        "    if print_J == True:\n",
        "        print(J)\n",
        "    \n",
        "    J_history.append(J)\n",
        "    for i in range(num_iters):\n",
        "        \n",
        "        theta = theta - alpha* derivative_theta(X,y,theta);\n",
        "        \n",
        "        J = cost_function(X,y,theta);\n",
        "        \n",
        "        J_history.append(J)\n",
        "        \n",
        "        if i % 1000 == 0 and print_J == True:\n",
        "            print(J)\n",
        "        \n",
        "        if abs(J-J_history[-2]) < epsilon:\n",
        "            break\n",
        "            \n",
        "    return theta, J_history"
      ],
      "execution_count":44,
      "outputs":[
        
      ],
      "metadata":{
        
      }
    },
    {
      "cell_type":"code",
      "source":[
        "def predict(X, mean, std, theta):\n",
        "    predictions = h(prepare_X((X-mean.values)\/std.values),theta)\n",
        "    return predictions"
      ],
      "execution_count":45,
      "outputs":[
        
      ],
      "metadata":{
        
      }
    },
    {
      "cell_type":"code",
      "source":[
        "data_columns = [\"exam1\", \"exam2\"]\n",
        "target_column = \"submitted\"\n",
        "X, y = load_datasets('sats.csv', data_columns, target_column)\n",
        "print('Training set: X={}, y={}'.format(X.shape, y.shape))"
      ],
      "execution_count":46,
      "outputs":[
        {
          "name":"stdout",
          "text":[
            "Training set: X=(100, 2), y=(100,)\n"
          ],
          "output_type":"stream"
        }
      ],
      "metadata":{
        
      }
    },
    {
      "cell_type":"code",
      "source":[
        "# Спробувати на цьому датасеті після написання всіх функцій і відлагодження на попередньому\n",
        "data_columns = [\"test1\", \"test2\"]\n",
        "target_column = \"passed\"\n",
        "X, y = load_datasets('tests.csv', data_columns, target_column)\n",
        "print('Training set: X={}, y={}'.format(X.shape, y.shape))"
      ],
      "execution_count":47,
      "outputs":[
        {
          "name":"stdout",
          "text":[
            "Training set: X=(118, 2), y=(118,)\n"
          ],
          "output_type":"stream"
        }
      ],
      "metadata":{
        
      }
    },
    {
      "cell_type":"code",
      "source":[
        "plot_data(X, y)"
      ],
      "execution_count":48,
      "outputs":[
        {
          "data":{
            "image\/png":"[encoded data removed]"
          },
          "metadata":{
            "image\/png":{
              "width":0,
              "height":0
            }
          },
          "output_type":"display_data"
        }
      ],
      "metadata":{
        
      }
    },
    {
      "cell_type":"code",
      "source":[
        "X_new, mean, std = normalize(X)"
      ],
      "execution_count":49,
      "outputs":[
        
      ],
      "metadata":{
        
      }
    },
    {
      "cell_type":"code",
      "source":[
        "X_new = prepare_X(X_new)\n",
        "y=y.to_numpy()\n",
        "y_new = y.reshape((X.shape[0], 1))"
      ],
      "execution_count":50,
      "outputs":[
        
      ],
      "metadata":{
        
      }
    },
    {
      "cell_type":"code",
      "source":[
        "theta = np.zeros((X_new.shape[1], 1))"
      ],
      "execution_count":51,
      "outputs":[
        
      ],
      "metadata":{
        
      }
    },
    {
      "cell_type":"code",
      "source":[
        "cost_function(X_new, y_new, theta)"
      ],
      "execution_count":52,
      "outputs":[
        {
          "data":{
            "text\/plain":[
              "array([-0.01174826])"
            ]
          },
          "metadata":{
            
          },
          "output_type":"display_data"
        }
      ],
      "metadata":{
        
      }
    },
    {
      "cell_type":"code",
      "source":[
        "new_theta, Js = gradient_descent(X_new, y_new, theta, 0.01, 1e-7, 1000000, False)\n",
        "print(new_theta, len(Js))"
      ],
      "execution_count":53,
      "outputs":[
        {
          "name":"stdout",
          "text":[
            "[[-0.03402965]\n",
            " [-0.14950957]\n",
            " [-0.00897109]] 2370\n"
          ],
          "output_type":"stream"
        }
      ],
      "metadata":{
        
      }
    },
    {
      "cell_type":"code",
      "source":[
        "cost_function(X_new, y_new, new_theta)"
      ],
      "execution_count":57,
      "outputs":[
        {
          "data":{
            "text\/plain":[
              "array([0.00404609])"
            ]
          },
          "metadata":{
            
          },
          "output_type":"display_data"
        }
      ],
      "metadata":{
        
      }
    },
    {
      "cell_type":"code",
      "source":[
        "decision_boundary(X, y, mean, std, new_theta)"
      ],
      "execution_count":58,
      "outputs":[
        {
          "data":{
            "image\/png":"[encoded data removed]"
          },
          "metadata":{
            "image\/png":{
              "width":0,
              "height":0
            }
          },
          "output_type":"display_data"
        }
      ],
      "metadata":{
        
      }
    },
    {
      "cell_type":"code",
      "source":[
        "T = np.array([[40, 40], [60, 65]])\n",
        "print(predict(T, mean, std, new_theta))"
      ],
      "execution_count":59,
      "outputs":[
        {
          "name":"stdout",
          "text":[
            "[[2.75975774e-06]\n",
            " [4.23420194e-09]]\n"
          ],
          "output_type":"stream"
        }
      ],
      "metadata":{
        
      }
    }
  ],
  "metadata":{
    
  },
  "nbformat":4,
  "nbformat_minor":0
}