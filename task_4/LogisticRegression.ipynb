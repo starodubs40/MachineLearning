{
  "cells":[
    {
      "cell_type":"code",
      "source":[
        "import numpy as np\n",
        "import pandas as pd\n",
        "from sklearn.model_selection import train_test_split\n",
        "from mpl_toolkits.mplot3d import Axes3D\n",
        "import matplotlib.pyplot as plt\n",
        "\n",
        "from matplotlib.colors import ListedColormap\n",
        "cm_bright = ListedColormap(['#FF0000', '#0000FF'])\n",
        "%matplotlib inline"
      ],
      "execution_count":24,
      "outputs":[
        
      ],
      "metadata":{
        
      }
    },
    {
      "cell_type":"code",
      "source":[
        "def normalize(X):\n",
        "    n = X.shape[0]\n",
        "    mean = np.mean(X, axis=1).reshape((n, 1))\n",
        "    std = np.std(X, axis=1).reshape((n, 1))\n",
        "    X_new = (X - mean) \/ std**2\n",
        "    return X_new, mean, std"
      ],
      "execution_count":25,
      "outputs":[
        
      ],
      "metadata":{
        
      }
    },
    {
      "cell_type":"code",
      "source":[
        "def sigmoid(z):\n",
        "    return 1 \/ (1 + np.exp(-z))"
      ],
      "execution_count":26,
      "outputs":[
        
      ],
      "metadata":{
        
      }
    },
    {
      "cell_type":"code",
      "source":[
        "def plot_data(x, y):\n",
        "    ax = plt.gca()\n",
        "    ax.scatter(X[:,0], x[:,1], c=(y == 1), cmap=cm_bright)"
      ],
      "execution_count":27,
      "outputs":[
        
      ],
      "metadata":{
        
      }
    },
    {
      "cell_type":"code",
      "source":[
        "def fwd_pass(X, params):\n",
        "    W = params[\"W\"]\n",
        "    b = params[\"b\"]\n",
        "    \n",
        "    Z = np.dot(W, X) + b\n",
        "    A = sigmoid(Z)\n",
        "    \n",
        "    cache = (W, b, Z, A)\n",
        "    \n",
        "    return A, cache"
      ],
      "execution_count":28,
      "outputs":[
        
      ],
      "metadata":{
        
      }
    },
    {
      "cell_type":"code",
      "source":[
        "def cost(A, Y):\n",
        "    m = Y.shape[1]\n",
        "    \n",
        "    L = - Y * np.log(A) - (1 - Y) * np.log(1 - A)\n",
        "    J = np.sum(L) \/ m\n",
        "    \n",
        "    return J"
      ],
      "execution_count":29,
      "outputs":[
        
      ],
      "metadata":{
        
      }
    },
    {
      "cell_type":"code",
      "source":[
        "def bwd_pass(X, Y, cache):\n",
        "    n, m = X.shape\n",
        "    (W, b, Z, A) = cache\n",
        "    \n",
        "    dZ = A - Y\n",
        "    dW = 1. \/ m * np.dot(X, dZ.T).reshape((1, n))\n",
        "    db = 1. \/ m * np.sum(dZ)\n",
        "    \n",
        "    grads = {\"dW\" : dW, \"db\" : db, \"dZ\" : dZ}\n",
        "    return grads"
      ],
      "execution_count":30,
      "outputs":[
        
      ],
      "metadata":{
        
      }
    },
    {
      "cell_type":"code",
      "source":[
        "def init_params(n, m):\n",
        "    W = np.random.randn(1, n) * 0.01\n",
        "    b = 0\n",
        "    \n",
        "    params = {\"W\" : W, \"b\" : b}\n",
        "    return params"
      ],
      "execution_count":31,
      "outputs":[
        
      ],
      "metadata":{
        
      }
    },
    {
      "cell_type":"code",
      "source":[
        "def update_params(params, grads, learning_rate):\n",
        "    W = params[\"W\"]\n",
        "    b = params[\"b\"]\n",
        "    \n",
        "    dW = grads[\"dW\"]\n",
        "    db = grads[\"db\"]\n",
        "    \n",
        "    params[\"W\"] = W - learning_rate * dW\n",
        "    params[\"b\"] = b - learning_rate * db\n",
        "    \n",
        "    return params"
      ],
      "execution_count":32,
      "outputs":[
        
      ],
      "metadata":{
        
      }
    },
    {
      "cell_type":"code",
      "source":[
        "def fit(X, Y, learning_rate = 0.01, num_iter = 30000, debug = False):\n",
        "    n, m = X.shape \n",
        "    params = init_params(n, m)\n",
        "    costs = []\n",
        "    for i in range(num_iter):\n",
        "        A, cache = fwd_pass(X, params)\n",
        "        curr_cost = cost(A, Y)\n",
        "        grads = bwd_pass(X, Y, cache)\n",
        "        \n",
        "        params = update_params(params, grads, learning_rate)\n",
        "        \n",
        "        if debug and i % 10 == 0:\n",
        "            print(\"{}-th iteration: {}\".format(i, curr_cost))\n",
        "            costs.append(curr_cost)\n",
        "    \n",
        "    plt.plot(costs)\n",
        "    plt.ylabel(\"Cost\")\n",
        "    plt.xlabel(\"Iteration, *10\")\n",
        "    plt.show()\n",
        "    \n",
        "    return params    "
      ],
      "execution_count":33,
      "outputs":[
        
      ],
      "metadata":{
        
      }
    },
    {
      "cell_type":"code",
      "source":[
        "data_columns = [\"exam1\", \"exam2\"]\n",
        "target_column = \"submitted\"\n",
        "df = pd.read_csv(\"sats.csv\")\n",
        "X, Y = df[data_columns].values, df[target_column]\n",
        "print('Training set: X={}, y={}'.format(X.shape, Y.shape))"
      ],
      "execution_count":34,
      "outputs":[
        {
          "name":"stdout",
          "text":[
            "Training set: X=(100, 2), y=(100,)\n"
          ],
          "output_type":"stream"
        }
      ],
      "metadata":{
        
      }
    },
    {
      "cell_type":"code",
      "source":[
        "data_columns = [\"test1\", \"test2\"]\n",
        "target_column = \"passed\"\n",
        "df = pd.read_csv(\"tests.csv\")\n",
        "X, Y = df[data_columns].values, df[target_column]\n",
        "print('Training set: X={}, y={}'.format(X.shape, Y.shape))"
      ],
      "execution_count":35,
      "outputs":[
        {
          "name":"stdout",
          "text":[
            "Training set: X=(118, 2), y=(118,)\n"
          ],
          "output_type":"stream"
        }
      ],
      "metadata":{
        
      }
    },
    {
      "cell_type":"code",
      "source":[
        "data_columns = [\"test1\", \"test2\", \"test1test1\", \"test2test2\", \"test1test2\", \"test1test1test1\", \"test2test2test2\"]\n",
        "target_column = \"passed\"\n",
        "df = pd.read_csv(\"testsCom.csv\")\n",
        "X, Y = df[data_columns].values, df[target_column]\n",
        "print('Training set: X={}, y={}'.format(X.shape, Y.shape))"
      ],
      "execution_count":36,
      "outputs":[
        {
          "name":"stdout",
          "text":[
            "Training set: X=(118, 7), y=(118,)\n"
          ],
          "output_type":"stream"
        }
      ],
      "metadata":{
        
      }
    },
    {
      "cell_type":"code",
      "source":[
        "plot_data(X, Y)"
      ],
      "execution_count":37,
      "outputs":[
        {
          "data":{
            "image\/png":"[encoded data removed]"
          },
          "metadata":{
            "image\/png":{
              "width":0,
              "height":0
            }
          },
          "output_type":"display_data"
        }
      ],
      "metadata":{
        
      }
    },
    {
      "cell_type":"code",
      "source":[
        "Y = Y.values.reshape((df.shape[0], 1))"
      ],
      "execution_count":38,
      "outputs":[
        
      ],
      "metadata":{
        
      }
    },
    {
      "cell_type":"code",
      "source":[
        "X, Y = X.T, Y.T"
      ],
      "execution_count":39,
      "outputs":[
        
      ],
      "metadata":{
        
      }
    },
    {
      "cell_type":"code",
      "source":[
        "X, mean, std = normalize(X)"
      ],
      "execution_count":40,
      "outputs":[
        
      ],
      "metadata":{
        
      }
    },
    {
      "cell_type":"code",
      "source":[
        "X[:,:5]"
      ],
      "execution_count":41,
      "outputs":[
        {
          "data":{
            "text\/plain":[
              "array([[-0.60317345, -0.01435925, -1.09777917, -1.75725074, -2.32251793],\n",
              "       [ 1.87362608,  1.92821021,  1.90091814,  1.19132449,  1.05486417],\n",
              "       [-3.90194657, -3.99946939, -3.29665705, -1.74627385,  0.25880084],\n",
              "       [ 2.0899842 ,  2.34213524,  2.21539406, -0.61258054, -1.05324385],\n",
              "       [-0.76431824,  1.23204463, -2.46000243, -3.2711155 , -4.28888063],\n",
              "       [-0.81067086, -0.79820379, -0.93050954, -1.50509379, -2.60774817],\n",
              "       [ 1.69714712,  1.89645037,  1.79574649, -0.1488716 , -0.39246017]])"
            ]
          },
          "metadata":{
            
          },
          "output_type":"display_data"
        }
      ],
      "metadata":{
        
      }
    },
    {
      "cell_type":"code",
      "source":[
        "Y.shape"
      ],
      "execution_count":42,
      "outputs":[
        {
          "data":{
            "text\/plain":[
              "(1, 118)"
            ]
          },
          "metadata":{
            
          },
          "output_type":"display_data"
        }
      ],
      "metadata":{
        
      }
    },
    {
      "cell_type":"code",
      "source":[
        "mean"
      ],
      "execution_count":43,
      "outputs":[
        {
          "data":{
            "text\/plain":[
              "array([[ 0.05477891],\n",
              "       [ 0.18310156],\n",
              "       [ 0.24757534],\n",
              "       [ 0.30136961],\n",
              "       [-0.02547184],\n",
              "       [ 0.05983333],\n",
              "       [ 0.14235001]])"
            ]
          },
          "metadata":{
            
          },
          "output_type":"display_data"
        }
      ],
      "metadata":{
        
      }
    },
    {
      "cell_type":"code",
      "source":[
        "std"
      ],
      "execution_count":44,
      "outputs":[
        {
          "data":{
            "text\/plain":[
              "array([[0.49454485],\n",
              "       [0.51753592],\n",
              "       [0.24747703],\n",
              "       [0.28332819],\n",
              "       [0.22312342],\n",
              "       [0.27347972],\n",
              "       [0.32474925]])"
            ]
          },
          "metadata":{
            
          },
          "output_type":"display_data"
        }
      ],
      "metadata":{
        
      }
    },
    {
      "cell_type":"code",
      "source":[
        "params = fit(X, Y, learning_rate = 0.1, num_iter = 2000, debug = True)"
      ],
      "execution_count":45,
      "outputs":[
        {
          "name":"stdout",
          "text":[
            "0-th iteration: 0.6849845868312888\n",
            "10-th iteration: 0.47743172583929355\n",
            "20-th iteration: 0.43204416674192275\n",
            "30-th iteration: 0.4088297641298897\n",
            "40-th iteration: 0.39486204117870105\n",
            "50-th iteration: 0.38552991221445315\n",
            "60-th iteration: 0.37883018030340854\n",
            "70-th iteration: 0.37376894039099245\n",
            "80-th iteration: 0.369800757875665\n",
            "90-th iteration: 0.36660200094453127\n",
            "100-th iteration: 0.3639683440181694\n",
            "110-th iteration: 0.3617640889638257\n",
            "120-th iteration: 0.35989524050798943\n",
            "130-th iteration: 0.3582943355552658\n",
            "140-th iteration: 0.3569114658314648\n",
            "150-th iteration: 0.3557087396499503\n",
            "160-th iteration: 0.35465674015347864\n",
            "170-th iteration: 0.353732187633945\n",
            "180-th iteration: 0.35291635258549436\n",
            "190-th iteration: 0.35219395078193866\n",
            "200-th iteration: 0.3515523560833988\n",
            "210-th iteration: 0.35098102771216816\n",
            "220-th iteration: 0.3504710854756266\n",
            "230-th iteration: 0.35001498911176204\n",
            "240-th iteration: 0.3496062922890968\n",
            "250-th iteration: 0.3492394510682478\n",
            "260-th iteration: 0.3489096727427792\n",
            "270-th iteration: 0.3486127950751474\n",
            "280-th iteration: 0.3483451887382458\n",
            "290-th iteration: 0.34810367770882783\n",
            "300-th iteration: 0.34788547371976936\n",
            "310-th iteration: 0.34768812184801157\n",
            "320-th iteration: 0.3475094550156045\n",
            "330-th iteration: 0.34734755569378817\n",
            "340-th iteration: 0.34720072347960973\n",
            "350-th iteration: 0.34706744749895563\n",
            "360-th iteration: 0.3469463828053601\n",
            "370-th iteration: 0.34683633010899007\n",
            "380-th iteration: 0.3467362182978962\n",
            "390-th iteration: 0.3466450893133987\n",
            "400-th iteration: 0.34656208502013713\n",
            "410-th iteration: 0.3464864357739041\n",
            "420-th iteration: 0.34641745044055355\n",
            "430-th iteration: 0.34635450765982795\n",
            "440-th iteration: 0.3462970481809411\n",
            "450-th iteration: 0.3462445681237952\n",
            "460-th iteration: 0.34619661304197386\n",
            "470-th iteration: 0.34615277268213135\n",
            "480-th iteration: 0.34611267634977616\n",
            "490-th iteration: 0.34607598880432733\n",
            "500-th iteration: 0.34604240661715685\n",
            "510-th iteration: 0.34601165493546904\n",
            "520-th iteration: 0.3459834846026254\n",
            "530-th iteration: 0.345957669592111\n",
            "540-th iteration: 0.34593400471796515\n",
            "550-th iteration: 0.3459123035893122\n",
            "560-th iteration: 0.34589239678076195\n",
            "570-th iteration: 0.34587413019399965\n",
            "580-th iteration: 0.34585736358896163\n",
            "590-th iteration: 0.3458419692656337\n",
            "600-th iteration: 0.34582783087981717\n",
            "610-th iteration: 0.34581484237819893\n",
            "620-th iteration: 0.3458029070397956\n",
            "630-th iteration: 0.34579193661236335\n",
            "640-th iteration: 0.3457818505336773\n",
            "650-th iteration: 0.3457725752287488\n",
            "660-th iteration: 0.3457640434750578\n",
            "670-th iteration: 0.3457561938287674\n",
            "680-th iteration: 0.3457489701056702\n",
            "690-th iteration: 0.34574232091130264\n",
            "700-th iteration: 0.3457361992152728\n",
            "710-th iteration: 0.3457305619653774\n",
            "720-th iteration: 0.34572536973756296\n",
            "730-th iteration: 0.34572058641820075\n",
            "740-th iteration: 0.34571617891551676\n",
            "750-th iteration: 0.3457121168973495\n",
            "760-th iteration: 0.3457083725526971\n",
            "770-th iteration: 0.34570492037477946\n",
            "780-th iteration: 0.3457017369635704\n",
            "790-th iteration: 0.34569880084596005\n",
            "800-th iteration: 0.34569609231189374\n",
            "810-th iteration: 0.3456935932650006\n",
            "820-th iteration: 0.34569128708636315\n",
            "830-th iteration: 0.34568915851022314\n",
            "840-th iteration: 0.34568719351052535\n",
            "850-th iteration: 0.34568537919731485\n",
            "860-th iteration: 0.3456837037220931\n",
            "870-th iteration: 0.3456821561913256\n",
            "880-th iteration: 0.3456807265873701\n",
            "890-th iteration: 0.34567940569616323\n",
            "900-th iteration: 0.34567818504106484\n",
            "910-th iteration: 0.34567705682231553\n",
            "920-th iteration: 0.3456760138616139\n",
            "930-th iteration: 0.345675049551364\n",
            "940-th iteration: 0.34567415780818617\n",
            "950-th iteration: 0.34567333303032116\n",
            "960-th iteration: 0.345672570058589\n",
            "970-th iteration: 0.34567186414059775\n",
            "980-th iteration: 0.34567121089792263\n",
            "990-th iteration: 0.34567060629600016\n",
            "1000-th iteration: 0.3456700466165087\n",
            "1010-th iteration: 0.3456695284320194\n",
            "1020-th iteration: 0.34566904858273106\n",
            "1030-th iteration: 0.34566860415510814\n",
            "1040-th iteration: 0.3456681924622641\n",
            "1050-th iteration: 0.3456678110259437\n",
            "1060-th iteration: 0.3456674575599696\n",
            "1070-th iteration: 0.3456671299550322\n",
            "1080-th iteration: 0.3456668262647096\n",
            "1090-th iteration: 0.34566654469261743\n",
            "1100-th iteration: 0.3456662835805939\n",
            "1110-th iteration: 0.3456660413978345\n",
            "1120-th iteration: 0.34566581673089963\n",
            "1130-th iteration: 0.34566560827452186\n",
            "1140-th iteration: 0.34566541482314844\n",
            "1150-th iteration: 0.345665235263158\n",
            "1160-th iteration: 0.3456650685656983\n",
            "1170-th iteration: 0.34566491378009173\n",
            "1180-th iteration: 0.34566477002776613\n",
            "1190-th iteration: 0.3456646364966638\n",
            "1200-th iteration: 0.3456645124360946\n",
            "1210-th iteration: 0.345664397151995\n",
            "1220-th iteration: 0.34566429000255955\n",
            "1230-th iteration: 0.3456641903942176\n",
            "1240-th iteration: 0.34566409777792445\n",
            "1250-th iteration: 0.34566401164574456\n",
            "1260-th iteration: 0.34566393152770203\n",
            "1270-th iteration: 0.34566385698887586\n",
            "1280-th iteration: 0.34566378762672434\n",
            "1290-th iteration: 0.34566372306861526\n",
            "1300-th iteration: 0.34566366296955037\n",
            "1310-th iteration: 0.3456636070100652\n",
            "1320-th iteration: 0.34566355489429224\n",
            "1330-th iteration: 0.34566350634817417\n",
            "1340-th iteration: 0.3456634611178155\n",
            "1350-th iteration: 0.34566341896795977\n",
            "1360-th iteration: 0.3456633796805868\n",
            "1370-th iteration: 0.3456633430536158\n",
            "1380-th iteration: 0.34566330889970853\n",
            "1390-th iteration: 0.34566327704516475\n",
            "1400-th iteration: 0.3456632473289024\n",
            "1410-th iteration: 0.3456632196015149\n",
            "1420-th iteration: 0.34566319372440063\n",
            "1430-th iteration: 0.3456631695689602\n",
            "1440-th iteration: 0.34566314701585243\n",
            "1450-th iteration: 0.34566312595430904\n",
            "1460-th iteration: 0.3456631062815003\n",
            "1470-th iteration: 0.3456630879019479\n",
            "1480-th iteration: 0.3456630707269847\n",
            "1490-th iteration: 0.34566305467425285\n",
            "1500-th iteration: 0.34566303966724093\n",
            "1510-th iteration: 0.3456630256348553\n",
            "1520-th iteration: 0.3456630125110249\n",
            "1530-th iteration: 0.3456630002343336\n",
            "1540-th iteration: 0.34566298874768253\n",
            "1550-th iteration: 0.34566297799797563\n",
            "1560-th iteration: 0.3456629679358298\n",
            "1570-th iteration: 0.3456629585153058\n",
            "1580-th iteration: 0.34566294969366074\n",
            "1590-th iteration: 0.3456629414311167\n",
            "1600-th iteration: 0.3456629336906485\n",
            "1610-th iteration: 0.3456629264377855\n",
            "1620-th iteration: 0.3456629196404301\n",
            "1630-th iteration: 0.3456629132686872\n",
            "1640-th iteration: 0.3456629072947075\n",
            "1650-th iteration: 0.3456629016925436\n",
            "1660-th iteration: 0.34566289643801296\n",
            "1670-th iteration: 0.34566289150857493\n",
            "1680-th iteration: 0.3456628868832145\n",
            "1690-th iteration: 0.34566288254233435\n",
            "1700-th iteration: 0.34566287846765625\n",
            "1710-th iteration: 0.3456628746421283\n",
            "1720-th iteration: 0.34566287104983917\n",
            "1730-th iteration: 0.3456628676759394\n",
            "1740-th iteration: 0.34566286450656664\n",
            "1750-th iteration: 0.34566286152877806\n",
            "1760-th iteration: 0.34566285873048636\n",
            "1770-th iteration: 0.3456628561004014\n",
            "1780-th iteration: 0.3456628536279749\n",
            "1790-th iteration: 0.34566285130334934\n",
            "1800-th iteration: 0.34566284911731193\n",
            "1810-th iteration: 0.34566284706124956\n",
            "1820-th iteration: 0.34566284512710815\n",
            "1830-th iteration: 0.3456628433073557\n",
            "1840-th iteration: 0.3456628415949456\n",
            "1850-th iteration: 0.34566283998328534\n",
            "1860-th iteration: 0.3456628384662051\n",
            "1870-th iteration: 0.3456628370379293\n",
            "1880-th iteration: 0.3456628356930514\n",
            "1890-th iteration: 0.3456628344265079\n",
            "1900-th iteration: 0.34566283323355645\n",
            "1910-th iteration: 0.3456628321097546\n",
            "1920-th iteration: 0.3456628310509393\n",
            "1930-th iteration: 0.34566283005320947\n",
            "1940-th iteration: 0.3456628291129079\n",
            "1950-th iteration: 0.345662828226606\n",
            "1960-th iteration: 0.34566282739108817\n",
            "1970-th iteration: 0.3456628266033391\n",
            "1980-th iteration: 0.3456628258605293\n",
            "1990-th iteration: 0.34566282516000446\n"
          ],
          "output_type":"stream"
        },
        {
          "data":{
            "image\/png":"[encoded data removed]"
          },
          "metadata":{
            "image\/png":{
              "width":0,
              "height":0
            }
          },
          "output_type":"display_data"
        }
      ],
      "metadata":{
        
      }
    },
    {
      "cell_type":"code",
      "source":[
        "print(params)"
      ],
      "execution_count":46,
      "outputs":[
        {
          "name":"stdout",
          "text":[
            "{'W': array([[ 0.82581156,  1.31051394, -0.72785852, -0.87439014, -0.36752849,\n",
            "        -0.03495868, -0.22265177]]), 'b': -0.2544316447511202}\n"
          ],
          "output_type":"stream"
        }
      ],
      "metadata":{
        
      }
    },
    {
      "cell_type":"code",
      "source":[
        
      ],
      "execution_count":0,
      "outputs":[
        
      ],
      "metadata":{
        
      }
    }
  ],
  "metadata":{
    
  },
  "nbformat":4,
  "nbformat_minor":0
}