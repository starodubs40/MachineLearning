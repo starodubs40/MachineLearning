{
  "cells":[
    {
      "cell_type":"code",
      "source":[
        "from matplotlib.colors import ListedColormap\n",
        "import matplotlib.pyplot as plt\n",
        "import numpy as np\n",
        "import pandas as pd\n",
        "\n",
        "cm_bright = ListedColormap(['#FF0000', '#0000FF'])\n",
        "%matplotlib inline\n",
        "from sklearn.metrics import accuracy_score"
      ],
      "execution_count":1,
      "outputs":[
        
      ],
      "metadata":{
        
      }
    },
    {
      "cell_type":"code",
      "source":[
        "def plot_surface(cls, x_1, x_2, ax=None, threshold=0.5, contourf=False):\n",
        "    xx1, xx2 = np.meshgrid(np.linspace(x_1.min(), x_1.max(), 100), \n",
        "                           np.linspace(x_2.min(), x_2.max(), 100))\n",
        "\n",
        "    X_pred = np.c_[xx1.ravel(), xx2.ravel()]\n",
        "    pred = cls.predict_proba(X_pred)[:, 0]\n",
        "    Z = pred.reshape((100, 100))\n",
        "    if ax is None:\n",
        "        ax = plt.gca()\n",
        "    ax.contour(xx1, xx2, Z, levels=[threshold], colors='black')\n",
        "    ax.set_xlim((x_1.min(), x_1.max()))\n",
        "    ax.set_ylim((x_2.min(), x_2.max()))"
      ],
      "execution_count":2,
      "outputs":[
        
      ],
      "metadata":{
        
      }
    },
    {
      "cell_type":"code",
      "source":[
        "def plot_data(X, y):\n",
        "    ax = plt.gca()\n",
        "    ax.scatter(X[:,0], X[:,1], c=(y == 1), cmap=cm_bright)"
      ],
      "execution_count":3,
      "outputs":[
        
      ],
      "metadata":{
        
      }
    },
    {
      "cell_type":"code",
      "source":[
        "class NeuralNet:\n",
        "\n",
        "    #NN for binary classification\n",
        "\n",
        "    #Attributes\n",
        "    def __init__(self, normalize = True, learning_rate = 0.01, num_iter = 30000,\n",
        "                 hidden_layer_sizes =(4,4),not_improve_iters =500,tol =1e-5):\n",
        "        self.learning_rate = learning_rate\n",
        "        self.num_iter = num_iter\n",
        "        self.normalize = normalize\n",
        "        self.hidden_layer_sizes =hidden_layer_sizes\n",
        "        self.layers_count =len(hidden_layer_sizes)\n",
        "        self.not_improve_iters =not_improve_iters\n",
        "        self.tol =tol\n",
        "        self.hidden_layers_count=len(hidden_layer_sizes)\n",
        "        self.hidden_layer_sizes =hidden_layer_sizes\n",
        "    \n",
        "    def __normalize(self, X, mean = None, std = None):\n",
        "        n = X.shape[0]\n",
        "        m = mean\n",
        "        if m is None:\n",
        "            m = np.mean(X, axis=1).reshape((n, 1))\n",
        "        s = std\n",
        "        if s is None:\n",
        "            s = np.std(X, axis=1).reshape((n, 1))\n",
        "        X_new = (X - m) \/ s**2\n",
        "        return X_new, m, s\n",
        "\n",
        "    def __sigmoid(self, Z):\n",
        "        return 1 \/ (1 + np.exp(-Z))\n",
        "    \n",
        "    def __initialize_parameters(self, n_x, n_1):\n",
        "        W1 = np.random.randn(n_1, n_x) * 0.01\n",
        "        b1 = np.zeros((n_1, 1))\n",
        "        W2 = np.random.randn(1, n_1) * 0.01\n",
        "        b2 = 0 \n",
        "        self.parameters = {\"W1\" : W1, \"b1\" : b1, \"W2\" : W2, \"b2\" : b2}\n",
        "       \n",
        "    def __forward_propagation(self, X):\n",
        "        W1 = self.parameters[\"W1\"]\n",
        "        b1 = self.parameters[\"b1\"]\n",
        "        W2 = self.parameters[\"W2\"]\n",
        "        b2 = self.parameters[\"b2\"]\n",
        "\n",
        "        Z1 = np.dot(W1, X) + b1\n",
        "        A1 = self.__sigmoid(Z1)\n",
        "\n",
        "        Z2 = np.dot(W2, A1) + b2\n",
        "        A2 = self.__sigmoid(Z2)\n",
        "\n",
        "        cache = (W1, b1, W2, b2, Z1, A1, Z2, A2)\n",
        "        return A2, cache\n",
        "    \n",
        "    def compute_cost(self, A, Y):\n",
        "        m = Y.shape[1]\n",
        "        res = Y * np.log(A) + (1 - Y) * np.log(1 - A)\n",
        "        J = -(1 \/ m) * np.sum(res)\n",
        "        return J\n",
        "        \n",
        "    def __backward_propagation(self, X, Y, cache):\n",
        "        m = X.shape[1]\n",
        "        n = X.shape[0]\n",
        "        (W1, b1, W2, b2, Z1, A1, Z2, A2) = cache\n",
        "        \n",
        "        dZ2 = A2 - Y\n",
        "        dW2 = 1. \/ m * np.dot(dZ2, A1.T)\n",
        "        db2 = 1. \/ m * np.sum(dZ2, axis = 1, keepdims = True)\n",
        "        \n",
        "        dA1 = np.dot(W2.T, dZ2)\n",
        "        dZ1 = np.multiply(dA1, np.multiply(A1, 1 - A1))\n",
        "        dW1 = 1. \/ m * np.dot(dZ1, X.T)\n",
        "        db1 = 1. \/ m * np.sum(dZ1, axis = 1, keepdims = True)\n",
        "        \n",
        "        grads = {\"dZ1\" : dZ1, \"dW1\" : dW1, \"db1\" : db1, \"dZ2\" : dZ2, \"dW2\" : dW2, \"db2\" : db2}\n",
        "        return grads\n",
        "    \n",
        "    def __update_parameters(self, grads):\n",
        "        W1 = self.parameters[\"W1\"]\n",
        "        b1 = self.parameters[\"b1\"]\n",
        "        W2 = self.parameters[\"W2\"]\n",
        "        b2 = self.parameters[\"b2\"]\n",
        "\n",
        "        dW1 = grads[\"dW1\"]\n",
        "        db1 = grads[\"db1\"]\n",
        "        dW2 = grads[\"dW2\"]\n",
        "        db2 = grads[\"db2\"]\n",
        "        \n",
        "\n",
        "        self.parameters[\"W1\"] = W1 - self.learning_rate * dW1\n",
        "        self.parameters[\"b1\"] = b1 - self.learning_rate * db1\n",
        "        self.parameters[\"W2\"] = W2 - self.learning_rate * dW2\n",
        "        self.parameters[\"b2\"] = b2 - self.learning_rate * db2\n",
        "\n",
        "        \n",
        "    def fit(self, X_vert, Y_vert, print_cost = True):\n",
        "        \n",
        "        X, Y = X_vert.T, Y_vert.T\n",
        "        \n",
        "        if self.normalize:\n",
        "            X, self.__mean, self.__std = self.__normalize(X)\n",
        "        \n",
        "        costs = []\n",
        "        improve_costs =[]\n",
        "        m = X.shape[1]\n",
        "        n_x = X.shape[0]\n",
        "        \n",
        "        self.__initialize_parameters(n_x, 20)\n",
        "\n",
        "        for i in range(self.num_iter):\n",
        "            A, cache = self.__forward_propagation(X)\n",
        "\n",
        "            cost = self.compute_cost(A, Y)\n",
        "\n",
        "            grads = self.__backward_propagation(X, Y, cache)\n",
        "\n",
        "            self.__update_parameters(grads)\n",
        "            \n",
        "            if i%self.not_improve_iters ==0:\n",
        "                improve_costs.append(cost)\n",
        "                imp_len =len(improve_costs)\n",
        "                if imp_len >2:\n",
        "                    if abs(improve_costs[imp_len-1] - improve_costs[imp_len-2]) < self.tol:\n",
        "                        return\n",
        "            \n",
        "            if print_cost and i % 1000 == 0:\n",
        "                print(\"{}-th iteration: {}\".format(i, cost))\n",
        "\n",
        "            if i % 1000 == 0:\n",
        "                costs.append(cost)\n",
        "\n",
        "        if print_cost:\n",
        "            plt.plot(costs)\n",
        "            plt.ylabel(\"Cost\")\n",
        "            plt.xlabel(\"Iteration, *1000\")\n",
        "            plt.show()\n",
        "    \n",
        "    def predict_proba(self, X_vert):\n",
        "        X = X_vert.T\n",
        "        if self.normalize:\n",
        "            X, _, _ = self.__normalize(X, self.__mean, self.__std)\n",
        "        \n",
        "        probs = self.__forward_propagation(X)[0]\n",
        "        \n",
        "        return np.column_stack((probs.T, 1 - probs.T))\n",
        "    \n",
        "    def predict(self, X_vert):\n",
        "        positive_probs = self.predict_proba(X_vert)[:, 0]\n",
        "        return (positive_probs >= 0.5).astype(int)   "
      ],
      "execution_count":4,
      "outputs":[
        
      ],
      "metadata":{
        
      }
    },
    {
      "cell_type":"code",
      "source":[
        "class NeuralNet:\n",
        "    def __init__(self, normalize = True, learning_rate = 0.01, num_iter = 30000,\n",
        "                 hidden_layer_sizes =(5,10),not_improve_iters =500,tol =1e-10):\n",
        "        self.learning_rate = learning_rate\n",
        "        self.num_iter = num_iter\n",
        "        self.normalize = normalize\n",
        "        \n",
        "        self.hidden_layer_sizes =hidden_layer_sizes\n",
        "        self.layers_count =len(hidden_layer_sizes)\n",
        "        \n",
        "        self.not_improve_iters =not_improve_iters\n",
        "        self.tol =tol\n",
        "    \n",
        "    def __normalize(self, X, mean = None, std = None):\n",
        "        n = X.shape[0]\n",
        "        m = mean\n",
        "        if m is None:\n",
        "            m = np.mean(X, axis=1).reshape((n, 1))\n",
        "        s = std\n",
        "        if s is None:\n",
        "            s = np.std(X, axis=1).reshape((n, 1))\n",
        "        X_new = (X - m) \/ s**2\n",
        "        return X_new, m, s\n",
        "\n",
        "    def __sigmoid(self, Z):\n",
        "      \n",
        "        return 1 \/ (1 + np.exp(-Z))\n",
        "    \n",
        "    def __initialize_parameters(self, n_x, n_arr):\n",
        "        layers =len(n_arr)\n",
        "        W_arr =[]\n",
        "        b_arr =[]\n",
        "        W_first = np.random.randn(n_arr[0], n_x) * 0.01\n",
        "        b_first = np.zeros((n_arr[0], 1))\n",
        "        W_arr.append(W_first)\n",
        "        b_arr.append(b_first)\n",
        "       \n",
        "        for n_l in range(1,layers):\n",
        "            W_temp =np.random.randn(n_arr[n_l], n_arr[n_l-1]) * 0.01\n",
        "            b_temp = np.zeros((n_arr[n_l], 1))\n",
        "            W_arr.append(W_temp)\n",
        "            b_arr.append(b_temp)\n",
        "        \n",
        "        #Init last layer\n",
        "        W_last =np.random.randn(1, n_arr[layers-1]) * 0.01\n",
        "        b_last = 0\n",
        "        \n",
        "        W_arr.append(W_last)\n",
        "        b_arr.append(b_last)\n",
        "        \n",
        "        print(\"Init parameters.\")\n",
        "        print(\"W coefs len: \",len(W_arr),\" b coefs len: \",len(b_arr))\n",
        "        \n",
        "        for w_debug in W_arr:\n",
        "            print(\"W shape: \",w_debug.shape)\n",
        "        \n",
        "        self.parameters = {\"W_arr\" : W_arr, \"b_arr\" : b_arr}\n",
        "       \n",
        "    def __forward_propagation(self, X):\n",
        "        \n",
        "        W_arr =self.parameters[\"W_arr\"]\n",
        "        b_arr = self.parameters[\"b_arr\"]\n",
        "        \n",
        "        W_first = W_arr[0]\n",
        "        b_first = b_arr[0]\n",
        "        \n",
        "        W_last =W_arr[len(W_arr)-1]\n",
        "        b_last =b_arr[len(b_arr)-1]\n",
        "        \n",
        "        Z_arr =[]\n",
        "        A_arr =[]\n",
        "        \n",
        "        Z_first =np.dot(W_first,X)+b_first\n",
        "        A_first = self.__sigmoid(Z_first)\n",
        "        \n",
        "        \n",
        "        Z_arr.append(Z_first)\n",
        "        A_arr.append(A_first)\n",
        "        \n",
        "        layers = self.layers_count\n",
        "        for l in range(1,layers+1):\n",
        "            Z_temp = np.dot(W_arr[l],A_arr[l-1])+b_arr[l]\n",
        "            A_temp = self.__sigmoid(Z_temp)\n",
        "            Z_arr.append(Z_temp)\n",
        "            A_arr.append(A_temp)\n",
        "\n",
        "        cache =(W_arr,b_arr,Z_arr,A_arr)\n",
        "        return A_arr[-1], cache\n",
        "    \n",
        "    def compute_cost(self, A, Y):\n",
        "        m = Y.shape[1]\n",
        "        res = Y * np.log(A) + (1 - Y) * np.log(1 - A)\n",
        "        J = -(1 \/ m) * np.sum(res)\n",
        "        return J\n",
        "        \n",
        "    def __backward_propagation(self, X, Y, cache):\n",
        "        m = X.shape[1]\n",
        "        n = X.shape[0]\n",
        "        (W_arr,b_arr,Z_arr,A_arr) = cache\n",
        "        \n",
        "        dZ_arr=[]\n",
        "        dW_arr =[]\n",
        "        dA_arr=[]\n",
        "        db_arr =[]\n",
        "        \n",
        "        dZ_last = A_arr[-1] -Y\n",
        "        dW_last = 1. \/ m * np.dot(dZ_last, A_arr[-2].T)\n",
        "        db_last =1. \/ m * np.sum(dZ_last, axis = 1, keepdims = True)\n",
        "        dA_last =np.dot(W_arr[-1].T,dZ_last)\n",
        "        \n",
        "        dZ_arr.insert(0,dZ_last)\n",
        "        dW_arr.insert(0,dW_last)\n",
        "        db_arr.insert(0,db_last)\n",
        "        dA_arr.insert(0,dA_last)\n",
        "        for l_inv in range(len(W_arr)-2,0,-1):\n",
        "            dZ_temp =np.multiply(dA_arr[0], np.multiply(A_arr[l_inv], 1 - A_arr[l_inv]))\n",
        "            dW_temp =1. \/ m * np.dot(dZ_temp, A_arr[l_inv-1].T)\n",
        "            db_temp =1. \/ m * np.sum(dZ_temp, axis = 1, keepdims = True)\n",
        "            dA_temp =np.dot(W_arr[l_inv].T,dZ_temp)\n",
        "            \n",
        "            dZ_arr.insert(0,dZ_temp)\n",
        "            dW_arr.insert(0,dW_temp)\n",
        "            dA_arr.insert(0,dA_temp)\n",
        "            db_arr.insert(0,db_temp)\n",
        "        \n",
        "        \n",
        "        dA_first =dA_arr[0]\n",
        "        dZ_first = np.multiply(dA_first, np.multiply(A_arr[0], 1 - A_arr[0]))\n",
        "        dW_first = 1. \/ m * np.dot(dZ_first, X.T)\n",
        "        db_first =1. \/ m * np.sum(dZ_first, axis = 1, keepdims = True)\n",
        "        \n",
        "        dZ_arr.insert(0,dZ_first)\n",
        "        dW_arr.insert(0,dW_first)\n",
        "        db_arr.insert(0,db_first)\n",
        "        \n",
        "        grads ={\"dZ_arr\":dZ_arr,\"dW_arr\":dW_arr,\"db_arr\":db_arr}\n",
        "        return grads\n",
        "    \n",
        "    def __update_parameters(self, grads):\n",
        "        W_arr =self.parameters[\"W_arr\"]\n",
        "        b_arr =self.parameters[\"b_arr\"]\n",
        "        \n",
        "        dW_arr =grads[\"dW_arr\"]\n",
        "        db_arr =grads[\"db_arr\"]\n",
        "        \n",
        "        W_new_arr =W_arr.copy()\n",
        "        b_new_arr = b_arr.copy()\n",
        "        for l in range(0,len(W_arr)):\n",
        "            W_new_arr[l]-=self.learning_rate * dW_arr[l]\n",
        "            b_new_arr[l]-=self.learning_rate * db_arr[l]\n",
        "        \n",
        "        self.parameters[\"W_arr\"] = W_new_arr\n",
        "        self.parameters[\"b_arr\"] = b_new_arr\n",
        "        \n",
        "        \n",
        "        \n",
        "    def fit(self, X_vert, Y_vert, print_cost = True):\n",
        "        \n",
        "        X, Y = X_vert.T, Y_vert.T\n",
        "        \n",
        "        if self.normalize:\n",
        "            X, self.__mean, self.__std = self.__normalize(X)\n",
        "        \n",
        "        costs = []\n",
        "        improve_costs =[]\n",
        "        m = X.shape[1]\n",
        "        n_x = X.shape[0]\n",
        "        \n",
        "        self.__initialize_parameters(n_x,self.hidden_layer_sizes)\n",
        "\n",
        "        for i in range(self.num_iter):\n",
        "            A, cache = self.__forward_propagation(X)\n",
        "            \n",
        "            cost = self.compute_cost(A, Y)\n",
        "\n",
        "            grads = self.__backward_propagation(X, Y, cache)\n",
        "\n",
        "            self.__update_parameters(grads)\n",
        "            \n",
        "            if i%self.not_improve_iters ==0:\n",
        "                improve_costs.append(cost)\n",
        "                imp_len =len(improve_costs)\n",
        "                if imp_len >2:\n",
        "                    if abs(improve_costs[imp_len-1] - improve_costs[imp_len-2]) < self.tol:\n",
        "                        return;\n",
        "            \n",
        "            \n",
        "            \n",
        "            if print_cost and i % 1000 == 0:\n",
        "                print(\"{}-th iteration: {}\".format(i, cost))\n",
        "\n",
        "            if i % 1000 == 0:\n",
        "                costs.append(cost)\n",
        "\n",
        "        if print_cost:\n",
        "            plt.plot(costs)\n",
        "            plt.ylabel(\"Cost\")\n",
        "            plt.xlabel(\"Iteration, *1000\")\n",
        "            plt.show()\n",
        "    \n",
        "    def predict_proba(self, X_vert):\n",
        "        X = X_vert.T\n",
        "        if self.normalize:\n",
        "            X, _, _ = self.__normalize(X, self.__mean, self.__std)\n",
        "        \n",
        "        probs = self.__forward_propagation(X)[0]\n",
        "        \n",
        "        return np.column_stack((probs.T, 1 - probs.T))\n",
        "    \n",
        "    def predict(self, X_vert):\n",
        "        positive_probs = self.predict_proba(X_vert)[:, 0]\n",
        "        return (positive_probs >= 0.5).astype(int)   "
      ],
      "execution_count":5,
      "outputs":[
        
      ],
      "metadata":{
        
      }
    },
    {
      "cell_type":"markdown",
      "source":[
        "## Спочатку спробуйте цей клас на одній задачі, а потім на іншій."
      ],
      "metadata":{
        
      }
    },
    {
      "cell_type":"code",
      "source":[
        "data_columns = [\"test1\", \"test2\"]\n",
        "target_column = \"passed\"\n",
        "df = pd.read_csv(\"tests.csv\")\n",
        "X, Y = df[data_columns].values, df[target_column]\n",
        "print('Training set: X={}, y={}'.format(X.shape, Y.shape))"
      ],
      "execution_count":6,
      "outputs":[
        {
          "name":"stdout",
          "text":[
            "Training set: X=(118, 2), y=(118,)\n"
          ],
          "output_type":"stream"
        }
      ],
      "metadata":{
        
      }
    },
    {
      "cell_type":"code",
      "source":[
        "plot_data(X, Y)"
      ],
      "execution_count":7,
      "outputs":[
        {
          "data":{
            "image\/png":"[encoded data removed]"
          },
          "metadata":{
            "image\/png":{
              "width":0,
              "height":0
            }
          },
          "output_type":"display_data"
        }
      ],
      "metadata":{
        
      }
    },
    {
      "cell_type":"code",
      "source":[
        "cls = NeuralNet(normalize = True, learning_rate = 0.01, num_iter = 10001,hidden_layer_sizes = (2,),not_improve_iters=10000,tol=1e-8)"
      ],
      "execution_count":8,
      "outputs":[
        
      ],
      "metadata":{
        
      }
    },
    {
      "cell_type":"code",
      "source":[
        "cls.fit(X, Y.values.reshape((df.shape[0], 1)))"
      ],
      "execution_count":9,
      "outputs":[
        {
          "name":"stdout",
          "text":[
            "Init parameters.\n",
            "W coefs len:  2  b coefs len:  2\n",
            "W shape:  (2, 2)\n",
            "W shape:  (1, 2)\n",
            "0-th iteration: 0.6931322278295439\n",
            "1000-th iteration: 0.6930001499565522\n",
            "2000-th iteration: 0.692997262689337\n",
            "3000-th iteration: 0.6929938543499229\n",
            "4000-th iteration: 0.692989493140438\n",
            "5000-th iteration: 0.692983727232315\n",
            "6000-th iteration: 0.6929759703457493\n",
            "7000-th iteration: 0.6929654479303342\n",
            "8000-th iteration: 0.6929511318393983\n",
            "9000-th iteration: 0.6929316633753801\n",
            "10000-th iteration: 0.6929052687320445\n"
          ],
          "output_type":"stream"
        },
        {
          "data":{
            "image\/png":"[encoded data removed]"
          },
          "metadata":{
            "image\/png":{
              "width":0,
              "height":0
            }
          },
          "output_type":"display_data"
        }
      ],
      "metadata":{
        
      }
    },
    {
      "cell_type":"code",
      "source":[
        "print(cls.parameters)"
      ],
      "execution_count":10,
      "outputs":[
        {
          "name":"stdout",
          "text":[
            "{'W_arr': [array([[ 0.02435981, -0.01592718],\n",
            "       [ 0.0744771 ,  0.00036352]]), array([[-0.02092524, -0.06473781]])], 'b_arr': [array([[-7.76370142e-05],\n",
            "       [-6.07246609e-04]]), array([[0.00657181]])]}\n"
          ],
          "output_type":"stream"
        }
      ],
      "metadata":{
        
      }
    },
    {
      "cell_type":"code",
      "source":[
        "Y_prob = cls.predict_proba(X)\n",
        "Y_prob"
      ],
      "execution_count":11,
      "outputs":[
        {
          "data":{
            "text\/plain":[
              "array([[0.49032733, 0.50967267],\n",
              "       [0.49060374, 0.50939626],\n",
              "       [0.49204438, 0.50795562],\n",
              "       [0.4912136 , 0.5087864 ],\n",
              "       [0.49152708, 0.50847292],\n",
              "       [0.49138826, 0.50861174],\n",
              "       [0.49188396, 0.50811604],\n",
              "       [0.48988182, 0.51011818],\n",
              "       [0.49013803, 0.50986197],\n",
              "       [0.49141026, 0.50858974],\n",
              "       [0.49090271, 0.50909729],\n",
              "       [0.49151475, 0.50848525],\n",
              "       [0.49044571, 0.50955429],\n",
              "       [0.49098871, 0.50901129],\n",
              "       [0.49116929, 0.50883071],\n",
              "       [0.49014082, 0.50985918],\n",
              "       [0.49187699, 0.50812301],\n",
              "       [0.49011433, 0.50988567],\n",
              "       [0.49094804, 0.50905196],\n",
              "       [0.49055308, 0.50944692],\n",
              "       [0.49116625, 0.50883375],\n",
              "       [0.49154369, 0.50845631],\n",
              "       [0.49172799, 0.50827201],\n",
              "       [0.49108081, 0.50891919],\n",
              "       [0.49186489, 0.50813511],\n",
              "       [0.49127828, 0.50872172],\n",
              "       [0.49182464, 0.50817536],\n",
              "       [0.49158412, 0.50841588],\n",
              "       [0.49075495, 0.50924505],\n",
              "       [0.4906573 , 0.5093427 ],\n",
              "       [0.49085407, 0.50914593],\n",
              "       [0.49043471, 0.50956529],\n",
              "       [0.49180659, 0.50819341],\n",
              "       [0.49161155, 0.50838845],\n",
              "       [0.49019617, 0.50980383],\n",
              "       [0.49160007, 0.50839993],\n",
              "       [0.49061166, 0.50938834],\n",
              "       [0.48976777, 0.51023223],\n",
              "       [0.49103752, 0.50896248],\n",
              "       [0.49021571, 0.50978429],\n",
              "       [0.4908172 , 0.5091828 ],\n",
              "       [0.49117811, 0.50882189],\n",
              "       [0.49127608, 0.50872392],\n",
              "       [0.49179502, 0.50820498],\n",
              "       [0.4899971 , 0.5100029 ],\n",
              "       [0.49154623, 0.50845377],\n",
              "       [0.49197875, 0.50802125],\n",
              "       [0.48993117, 0.51006883],\n",
              "       [0.49013149, 0.50986851],\n",
              "       [0.49214642, 0.50785358],\n",
              "       [0.49112252, 0.50887748],\n",
              "       [0.48981804, 0.51018196],\n",
              "       [0.49151688, 0.50848312],\n",
              "       [0.49068719, 0.50931281],\n",
              "       [0.49162522, 0.50837478],\n",
              "       [0.49175474, 0.50824526],\n",
              "       [0.49178372, 0.50821628],\n",
              "       [0.49029186, 0.50970814],\n",
              "       [0.49048062, 0.50951938],\n",
              "       [0.49033576, 0.50966424],\n",
              "       [0.49024244, 0.50975756],\n",
              "       [0.49081222, 0.50918778],\n",
              "       [0.49119068, 0.50880932],\n",
              "       [0.49004724, 0.50995276],\n",
              "       [0.4910737 , 0.5089263 ],\n",
              "       [0.49098072, 0.50901928],\n",
              "       [0.49198929, 0.50801071],\n",
              "       [0.49194899, 0.50805101],\n",
              "       [0.49025278, 0.50974722],\n",
              "       [0.4897703 , 0.5102297 ],\n",
              "       [0.49128287, 0.50871713],\n",
              "       [0.49143086, 0.50856914],\n",
              "       [0.4903292 , 0.5096708 ],\n",
              "       [0.49011391, 0.50988609],\n",
              "       [0.49078323, 0.50921677],\n",
              "       [0.49130876, 0.50869124],\n",
              "       [0.48998631, 0.51001369],\n",
              "       [0.4914568 , 0.5085432 ],\n",
              "       [0.49004652, 0.50995348],\n",
              "       [0.49130672, 0.50869328],\n",
              "       [0.49036606, 0.50963394],\n",
              "       [0.49122844, 0.50877156],\n",
              "       [0.49129555, 0.50870445],\n",
              "       [0.49068278, 0.50931722],\n",
              "       [0.49091592, 0.50908408],\n",
              "       [0.49184196, 0.50815804],\n",
              "       [0.49102165, 0.50897835],\n",
              "       [0.49173041, 0.50826959],\n",
              "       [0.49169625, 0.50830375],\n",
              "       [0.48955878, 0.51044122],\n",
              "       [0.49075122, 0.50924878],\n",
              "       [0.49129749, 0.50870251],\n",
              "       [0.49058429, 0.50941571],\n",
              "       [0.48972954, 0.51027046],\n",
              "       [0.49022179, 0.50977821],\n",
              "       [0.49082857, 0.50917143],\n",
              "       [0.49128656, 0.50871344],\n",
              "       [0.49164426, 0.50835574],\n",
              "       [0.48990318, 0.51009682],\n",
              "       [0.49140224, 0.50859776],\n",
              "       [0.49117576, 0.50882424],\n",
              "       [0.49037472, 0.50962528],\n",
              "       [0.49063771, 0.50936229],\n",
              "       [0.49051938, 0.50948062],\n",
              "       [0.48970395, 0.51029605],\n",
              "       [0.49134087, 0.50865913],\n",
              "       [0.49199542, 0.50800458],\n",
              "       [0.49112895, 0.50887105],\n",
              "       [0.49015893, 0.50984107],\n",
              "       [0.49073273, 0.50926727],\n",
              "       [0.48983795, 0.51016205],\n",
              "       [0.49173088, 0.50826912],\n",
              "       [0.48982313, 0.51017687],\n",
              "       [0.49141899, 0.50858101],\n",
              "       [0.49114877, 0.50885123],\n",
              "       [0.49023701, 0.50976299],\n",
              "       [0.49155274, 0.50844726],\n",
              "       [0.49201587, 0.50798413]])"
            ]
          },
          "metadata":{
            
          },
          "output_type":"display_data"
        }
      ],
      "metadata":{
        
      }
    },
    {
      "cell_type":"code",
      "source":[
        "Y_hat = cls.predict(X)\n",
        "Y_hat"
      ],
      "execution_count":12,
      "outputs":[
        {
          "data":{
            "text\/plain":[
              "array([0, 0, 0, 0, 0, 0, 0, 0, 0, 0, 0, 0, 0, 0, 0, 0, 0, 0, 0, 0, 0, 0,\n",
              "       0, 0, 0, 0, 0, 0, 0, 0, 0, 0, 0, 0, 0, 0, 0, 0, 0, 0, 0, 0, 0, 0,\n",
              "       0, 0, 0, 0, 0, 0, 0, 0, 0, 0, 0, 0, 0, 0, 0, 0, 0, 0, 0, 0, 0, 0,\n",
              "       0, 0, 0, 0, 0, 0, 0, 0, 0, 0, 0, 0, 0, 0, 0, 0, 0, 0, 0, 0, 0, 0,\n",
              "       0, 0, 0, 0, 0, 0, 0, 0, 0, 0, 0, 0, 0, 0, 0, 0, 0, 0, 0, 0, 0, 0,\n",
              "       0, 0, 0, 0, 0, 0, 0, 0])"
            ]
          },
          "metadata":{
            
          },
          "output_type":"display_data"
        }
      ],
      "metadata":{
        
      }
    },
    {
      "cell_type":"code",
      "source":[
        "accuracy_score(Y, Y_hat)"
      ],
      "execution_count":13,
      "outputs":[
        {
          "data":{
            "text\/plain":[
              "0.5084745762711864"
            ]
          },
          "metadata":{
            
          },
          "output_type":"display_data"
        }
      ],
      "metadata":{
        
      }
    },
    {
      "cell_type":"code",
      "source":[
        "from sklearn.neural_network import MLPClassifier\n",
        "clf = MLPClassifier(hidden_layer_sizes = (8,), max_iter = 1000000, activation = 'relu', solver = 'sgd', learning_rate_init = 0.01, learning_rate = 'constant')"
      ],
      "execution_count":14,
      "outputs":[
        
      ],
      "metadata":{
        
      }
    },
    {
      "cell_type":"code",
      "source":[
        "clf.fit(X, Y)"
      ],
      "execution_count":15,
      "outputs":[
        {
          "data":{
            "text\/plain":[
              "MLPClassifier(hidden_layer_sizes=(8,), learning_rate_init=0.01,\n",
              "              max_iter=1000000, solver='sgd')"
            ]
          },
          "metadata":{
            
          },
          "output_type":"display_data"
        }
      ],
      "metadata":{
        
      }
    },
    {
      "cell_type":"code",
      "source":[
        "plot_data(X, Y)\n",
        "plot_surface(clf, X[:, 0], X[:, 1])"
      ],
      "execution_count":16,
      "outputs":[
        {
          "data":{
            "image\/png":"[encoded data removed]"
          },
          "metadata":{
            "image\/png":{
              "width":0,
              "height":0
            }
          },
          "output_type":"display_data"
        }
      ],
      "metadata":{
        
      }
    },
    {
      "cell_type":"code",
      "source":[
        "accuracy_score(Y, clf.predict(X))"
      ],
      "execution_count":17,
      "outputs":[
        {
          "data":{
            "text\/plain":[
              "0.4915254237288136"
            ]
          },
          "metadata":{
            
          },
          "output_type":"display_data"
        }
      ],
      "metadata":{
        
      }
    },
    {
      "cell_type":"code",
      "source":[
        "clf.n_iter_"
      ],
      "execution_count":18,
      "outputs":[
        {
          "data":{
            "text\/plain":[
              "12"
            ]
          },
          "metadata":{
            
          },
          "output_type":"display_data"
        }
      ],
      "metadata":{
        
      }
    }
  ],
  "metadata":{
    
  },
  "nbformat":4,
  "nbformat_minor":0
}