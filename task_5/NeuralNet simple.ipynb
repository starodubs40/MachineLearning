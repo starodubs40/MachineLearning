{
 "cells": [
  {
   "cell_type": "markdown",
   "metadata": {},
   "source": [
    "Реалізуємо нейронну мережу, в ній буде два шари прихований і вихідний. Запропонований підхід стане заготовкою для реалізації наступних оптимізацій: MBGD, ADAM та регуляризації. \n",
    "\n",
    "Потрібно передбачити можливість ранньої зупинки ітераційного процесу, якщо значення штрафної функції не покращуватиметься протягом певної кількості ітерацій. Наприклад, якщо протягом $k$ ітерацій штрафна функція за модулем не стане меншою, ніж на поточному кроці."
   ]
  },
  {
   "cell_type": "code",
   "execution_count": 1,
   "metadata": {},
   "outputs": [],
   "source": [
    "import numpy as np\n",
    "import pandas as pd\n",
    "from sklearn.model_selection import train_test_split\n",
    "from mpl_toolkits.mplot3d import Axes3D\n",
    "import matplotlib.pyplot as plt\n",
    "\n",
    "from matplotlib.colors import ListedColormap\n",
    "cm_bright = ListedColormap(['#FF0000', '#0000FF'])\n",
    "%matplotlib inline\n",
    "from sklearn.metrics import accuracy_score\n",
    "\n",
    "import sklearn.linear_model"
   ]
  },
  {
   "cell_type": "code",
   "execution_count": 2,
   "metadata": {},
   "outputs": [],
   "source": [
    "def plot_surface(cls, x_1, x_2, ax=None, threshold=0.5, contourf=False):\n",
    "    xx1, xx2 = np.meshgrid(np.linspace(x_1.min(), x_1.max(), 100), \n",
    "                           np.linspace(x_2.min(), x_2.max(), 100))\n",
    "\n",
    "    X_pred = np.c_[xx1.ravel(), xx2.ravel()]\n",
    "    pred = cls.predict_proba(X_pred)[:, 0]\n",
    "    Z = pred.reshape((100, 100))\n",
    "    if ax is None:\n",
    "        ax = plt.gca()\n",
    "    ax.contour(xx1, xx2, Z, levels=[threshold], colors='black')\n",
    "    ax.set_xlim((x_1.min(), x_1.max()))\n",
    "    ax.set_ylim((x_2.min(), x_2.max()))"
   ]
  },
  {
   "cell_type": "code",
   "execution_count": 3,
   "metadata": {},
   "outputs": [],
   "source": [
    "def plot_data(X, y):\n",
    "    ax = plt.gca()\n",
    "    ax.scatter(X[:,0], X[:,1], c=(y == 1), cmap=cm_bright)"
   ]
  },
  {
   "cell_type": "code",
   "execution_count": 1,
   "metadata": {
    "collapsed": true
   },
   "outputs": [],
   "source": [
    "class NeuralNet:\n",
    "    \"\"\"\n",
    "    NN for binary classification\n",
    "    Attributes:\n",
    "    ...\n",
    "    \"\"\"\n",
    "    \n",
    "    def __init__(self, normalize = True, learning_rate = 0.01, num_iter = 30000, hidden_layer_sizes=(10,), eps=1e-6):\n",
    "        self.learning_rate = learning_rate\n",
    "        self.num_iter = num_iter\n",
    "        self.normalize = normalize\n",
    "        self.hidden_layer_sizes = hidden_layer_sizes\n",
    "        self.n_layers = 1 + len(hidden_layer_sizes)\n",
    "        self.eps = eps\n",
    "        self.parameters = None  # W and b\n",
    "    \n",
    "    def __normalize(self, X, mean = None, std = None):\n",
    "        \"\"\"\n",
    "        Нормалізація вхідних даних.\n",
    "        \"\"\"\n",
    "        n = X.shape[0]\n",
    "        m = mean\n",
    "        if m is None:\n",
    "            m = np.mean(X, axis=1).reshape((n, 1))\n",
    "        s = std\n",
    "        if s is None:\n",
    "            s = np.std(X, axis=1).reshape((n, 1))\n",
    "        X_new = (X - m) / s**2\n",
    "        return X_new, m, s\n",
    "\n",
    "    def __sigmoid(self, Z):\n",
    "        \n",
    "        return 1 / (1 + np.exp(-Z))\n",
    "    \n",
    "    def __initialize_parameters(self, n_x, hidden_layers, n_y):\n",
    "        np.random.seed(1)\n",
    "        \n",
    "        t = 0\n",
    "        t = \"asdfds\"\n",
    "        \n",
    "        W_arr = list()\n",
    "        b_arr = list()\n",
    "        self.dW = list()\n",
    "        self.db = list()\n",
    "        \n",
    "        layers = list(hidden_layers)\n",
    "        layers.insert(0, n_x)\n",
    "        layers.append(n_y)\n",
    "        layers = tuple(layers)\n",
    "        \n",
    "        for i in range(1, self.n_layers+1):\n",
    "            W = np.random.randn(layers[i], layers[i-1]) * 0.01\n",
    "            b = np.zeros((layers[i], 1))\n",
    "            dW = np.zeros((layers[i], layers[i-1]))\n",
    "            db = np.zeros((layers[i], 1))\n",
    "            \n",
    "            W_arr.append(W)\n",
    "            b_arr.append(b)\n",
    "            self.dW.append(dW)\n",
    "            self.db.append(db)\n",
    "        \n",
    "        self.parameters = {\"W\": W_arr, \"b\": b_arr}\n",
    "  \n",
    "\n",
    "    def __forward_propagation(self, X):\n",
    "        W = self.parameters[\"W\"]\n",
    "        b = self.parameters[\"b\"]\n",
    "        \n",
    "        Z = list()\n",
    "        A = list()\n",
    "        \n",
    "        Z.append(np.dot(W[0], X) + b[0])\n",
    "        A.append(self.__sigmoid(Z[0]))\n",
    "\n",
    "        for i in range(1, self.n_layers):\n",
    "            Z.append(np.dot(W[i], A[i-1]) + b[i])\n",
    "            A.append(self.__sigmoid(Z[i]))\n",
    "            \n",
    "        cache = (W, b, Z, A)\n",
    "        return A[-1], cache\n",
    " \n",
    "\n",
    "    def compute_cost(self, A, Y):\n",
    "        m = Y.shape[1]\n",
    "        res = Y * np.log(A) + (1 - Y) * np.log(1 - A)\n",
    "        J = -(1 / m) * np.sum(res)\n",
    "        return J\n",
    "\n",
    "    \n",
    "    def __backward_propagation(self, X, Y, cache):\n",
    "        m = X.shape[1]\n",
    "        n = X.shape[0]\n",
    "        (W, b, Z, A) = cache\n",
    "        \n",
    "        dZ = [None for i in range(self.n_layers)]\n",
    "        dW = [None for i in range(self.n_layers)]\n",
    "        db = [None for i in range(self.n_layers)]\n",
    "        dA = [None for i in range(self.n_layers)]\n",
    "        \n",
    "        dZ[-1] = (A[-1] - Y)\n",
    "        dW[-1] = (1. / m * np.dot(dZ[-1], A[-2].T))\n",
    "        db[-1] = (1. / m * np.sum(dZ[-1], axis = 1, keepdims = True))\n",
    "        dA[-1] = np.dot(W[-1].T, dZ[-1])\n",
    "        \n",
    "        for i in range(self.n_layers-1, 1, -1):\n",
    "            dZ[i-1] = np.multiply(dA[i], np.multiply(A[i-1], 1 - A[i-1]))\n",
    "            dW[i-1] = 1. / m * np.dot(dZ[i-1], A[i-2].T)\n",
    "            db[i-1] = 1. / m * np.sum(dZ[i-1], axis = 1, keepdims = True)\n",
    "            dA[i-1] = np.dot(W[i-1].T, dZ[i-1])\n",
    "            \n",
    "\n",
    "        dZ[0] = np.multiply(dA[1], np.multiply(A[0], 1 - A[0]))\n",
    "        dA[0] = np.dot(W[0].T, dZ[0])\n",
    "        \n",
    "        dW[0] = 1. / m * np.dot(dZ[0], X.T)\n",
    "        db[0] = 1. / m * np.sum(dZ[0], axis = 1, keepdims = True)\n",
    "        \n",
    "\n",
    "        grads = {\"dZ\": dZ, \"dW\": dW, \"db\": db}\n",
    "        return grads\n",
    "    \n",
    "        \n",
    "    def __update_parameters(self, grads):\n",
    "        W = self.parameters[\"W\"]\n",
    "        b = self.parameters[\"b\"]\n",
    "        \n",
    "        dW = grads[\"dW\"]\n",
    "        db = grads[\"db\"]\n",
    "        \n",
    "        for i in range(self.n_layers):\n",
    "            W[i] = W[i] - self.learning_rate * dW[i]\n",
    "            b[i] = b[i] - self.learning_rate * db[i]\n",
    "        \n",
    "        self.parameters = {\"W\": W, \"b\": b}\n",
    "\n",
    "        \n",
    "    def fit(self, X_vert, Y_vert, n_iters_stop = 5, print_cost = True):\n",
    "        \n",
    "        X, Y = X_vert.T, Y_vert.T\n",
    "        \n",
    "        if self.normalize:\n",
    "            X, self.__mean, self.__std = self.__normalize(X)\n",
    "                \n",
    "        costs = []\n",
    "        costs_history = []\n",
    "        \n",
    "        m = X.shape[1]\n",
    "        n_x = X.shape[0]\n",
    "        n_y = Y.shape[0]\n",
    "        \n",
    "        self.__initialize_parameters(n_x, self.hidden_layer_sizes, n_y)\n",
    "        iters_to_break = 0;\n",
    "\n",
    "        for i in range(self.num_iter):\n",
    "            self.iterations = i\n",
    "            A, cache = self.__forward_propagation(X)\n",
    "\n",
    "            cost = self.compute_cost(A, Y)\n",
    "            costs_history.append(cost)\n",
    "            \n",
    "            grads = self.__backward_propagation(X, Y, cache)\n",
    "\n",
    "            self.__update_parameters(grads)\n",
    "\n",
    "            if print_cost and i % 1000 == 0:\n",
    "                print(\"{}-th iteration: {}\".format(i, cost))\n",
    "\n",
    "            if i % 1000 == 0:\n",
    "                costs.append(cost)\n",
    "\n",
    "            \n",
    "            if i >= 1 and (costs_history[-1] - costs_history[-2]) >= 0:\n",
    "                iters_to_break = iters_to_break + 1\n",
    "                if iters_to_break == n_iters_stop:\n",
    "                    break\n",
    "            else:\n",
    "                iters_to_break = 0;\n",
    "                \n",
    "        if print_cost:\n",
    "            plt.plot(costs)\n",
    "            plt.ylabel(\"Cost\")\n",
    "            plt.xlabel(\"Iteration, *1000\")\n",
    "            plt.show()\n",
    "\n",
    "            \n",
    "    def predict_proba(self, X_vert):\n",
    "        X = X_vert.T\n",
    "        if self.normalize:\n",
    "            X, _, _ = self.__normalize(X, self.__mean, self.__std)\n",
    "        \n",
    "        probs = self.__forward_propagation(X)[0]\n",
    "        \n",
    "        return np.column_stack((probs.T, 1 - probs.T))\n",
    "    \n",
    "    def predict(self, X_vert):\n",
    "        positive_probs = self.predict_proba(X_vert)[:, 0]\n",
    "        return (positive_probs >= 0.5).astype(int)   \n"
   ]
  },
  {
   "cell_type": "markdown",
   "metadata": {},
   "source": [
    "Спочатку спробуйте цей клас на одній задачі, а потім на іншій."
   ]
  },
  {
   "cell_type": "code",
   "execution_count": 5,
   "metadata": {},
   "outputs": [
    {
     "name": "stdout",
     "output_type": "stream",
     "text": [
      "Training set: X=(118, 2), y=(118,)\n"
     ]
    }
   ],
   "source": [
    "data_columns = [\"test1\", \"test2\"]\n",
    "target_column = \"passed\"\n",
    "df = pd.read_csv(\"tests.csv\")\n",
    "X, Y = df[data_columns].values, df[target_column]\n",
    "print('Training set: X={}, y={}'.format(X.shape, Y.shape))"
   ]
  },
  {
   "cell_type": "code",
   "execution_count": 6,
   "metadata": {},
   "outputs": [
    {
     "data": {
      "image/png": "[encoded data removed]",
      "text/plain": [
       "<Figure size 432x288 with 1 Axes>"
      ]
     },
     "metadata": {
      "needs_background": "light"
     },
     "output_type": "display_data"
    }
   ],
   "source": [
    "plot_data(X, Y)"
   ]
  },
  {
   "cell_type": "code",
   "execution_count": 7,
   "metadata": {},
   "outputs": [],
   "source": [
    "cls = NeuralNet(normalize = True, learning_rate = 0.5, num_iter = 4000, hidden_layer_sizes=(20,), eps=1e-6)"
   ]
  },
  {
   "cell_type": "code",
   "execution_count": 8,
   "metadata": {},
   "outputs": [
    {
     "name": "stdout",
     "output_type": "stream",
     "text": [
      "0-th iteration: 0.6933754913074256\n",
      "1000-th iteration: 0.6898887572536652\n",
      "2000-th iteration: 0.6035741004857594\n",
      "3000-th iteration: 0.4082928240168437\n"
     ]
    },
    {
     "data": {
      "image/png": "[encoded data removed]",
      "text/plain": [
       "<Figure size 432x288 with 1 Axes>"
      ]
     },
     "metadata": {
      "needs_background": "light"
     },
     "output_type": "display_data"
    }
   ],
   "source": [
    "cls.fit(X, Y.values.reshape((df.shape[0], 1)), n_iters_stop=5)"
   ]
  },
  {
   "cell_type": "code",
   "execution_count": 9,
   "metadata": {},
   "outputs": [
    {
     "name": "stdout",
     "output_type": "stream",
     "text": [
      "{'W': [array([[ 8.85350221e-01, -7.67354736e-01],\n",
      "       [-2.85542768e-01,  1.68040835e+00],\n",
      "       [ 2.69187558e-01, -3.33499854e+00],\n",
      "       [ 4.30430464e-02, -8.54384623e-02],\n",
      "       [ 2.69618552e-03, -1.26549519e-01],\n",
      "       [ 2.02829105e+00,  1.75775673e+00],\n",
      "       [ 3.17507370e-01,  1.18337119e-01],\n",
      "       [ 9.66992561e-01, -5.18489815e-02],\n",
      "       [ 1.11473301e-01, -4.34282335e-02],\n",
      "       [ 1.24256919e+00, -5.51762001e-01],\n",
      "       [-2.55188268e-02,  1.73072148e+00],\n",
      "       [-2.57324029e-01, -6.09394050e-01],\n",
      "       [ 9.93064986e-01,  1.53891429e-01],\n",
      "       [-1.07929276e+00, -1.77387660e-02],\n",
      "       [ 2.99281744e-01,  9.86828457e-02],\n",
      "       [ 1.33900244e+00,  2.83118077e-01],\n",
      "       [ 1.52714196e-01,  4.07466352e-02],\n",
      "       [ 1.75853909e-01,  9.15608495e-02],\n",
      "       [ 1.03159900e+00,  5.37051030e-01],\n",
      "       [ 3.72815779e-02, -9.99929142e-02]]), array([[ 2.17273272, -4.15886638, -4.48843501, -0.86266388, -0.98367149,\n",
      "        -8.86518308, -0.34859616,  0.86846916, -0.75128858,  3.71731991,\n",
      "         5.78167207, -1.19257695, -2.35133689, -2.27568795, -0.41586633,\n",
      "         1.88918025, -0.63286753, -0.55987787,  1.38481146, -0.88420984]])], 'b': [array([[ 1.88151684],\n",
      "       [-2.75957628],\n",
      "       [-1.07900458],\n",
      "       [ 0.14235137],\n",
      "       [ 0.13749166],\n",
      "       [-3.95321049],\n",
      "       [ 0.09077852],\n",
      "       [ 1.04124358],\n",
      "       [ 0.07518831],\n",
      "       [ 3.22501254],\n",
      "       [ 4.03155701],\n",
      "       [-0.39190394],\n",
      "       [-1.86756621],\n",
      "       [-1.53097078],\n",
      "       [ 0.04144343],\n",
      "       [ 1.8600286 ],\n",
      "       [ 0.07354298],\n",
      "       [ 0.07162824],\n",
      "       [ 1.63133565],\n",
      "       [ 0.13255624]]), array([[-1.93250579]])]}\n"
     ]
    }
   ],
   "source": [
    "print(cls.parameters)"
   ]
  },
  {
   "cell_type": "code",
   "execution_count": 10,
   "metadata": {},
   "outputs": [
    {
     "data": {
      "text/plain": [
       "array([[5.72836213e-01, 4.27163787e-01],\n",
       "       [7.88658961e-01, 2.11341039e-01],\n",
       "       [3.58044541e-01, 6.41955459e-01],\n",
       "       [1.53321405e-01, 8.46678595e-01],\n",
       "       [1.02157470e-01, 8.97842530e-01],\n",
       "       [8.46976341e-01, 1.53023659e-01],\n",
       "       [5.07451004e-02, 9.49254900e-01],\n",
       "       [2.63875337e-01, 7.36124663e-01],\n",
       "       [7.26038491e-01, 2.73961509e-01],\n",
       "       [9.34668228e-01, 6.53317720e-02],\n",
       "       [9.63887519e-01, 3.61124806e-02],\n",
       "       [3.17810729e-01, 6.82189271e-01],\n",
       "       [2.53242927e-01, 7.46757073e-01],\n",
       "       [1.26567307e-01, 8.73432693e-01],\n",
       "       [7.76781035e-01, 2.23218965e-01],\n",
       "       [2.18585177e-01, 7.81414823e-01],\n",
       "       [6.06118305e-01, 3.93881695e-01],\n",
       "       [8.34845501e-01, 1.65154499e-01],\n",
       "       [7.17586965e-01, 2.82413035e-01],\n",
       "       [2.17261296e-01, 7.82738704e-01],\n",
       "       [9.94531769e-01, 5.46823051e-03],\n",
       "       [8.56075541e-01, 1.43924459e-01],\n",
       "       [8.69144234e-01, 1.30855766e-01],\n",
       "       [6.14926622e-02, 9.38507338e-01],\n",
       "       [2.58152806e-01, 7.41847194e-01],\n",
       "       [8.57804663e-01, 1.42195337e-01],\n",
       "       [1.82815132e-01, 8.17184868e-01],\n",
       "       [3.80548270e-01, 6.19451730e-01],\n",
       "       [4.20189819e-01, 5.79810181e-01],\n",
       "       [8.23424117e-01, 1.76575883e-01],\n",
       "       [9.85161132e-01, 1.48388682e-02],\n",
       "       [5.27705040e-01, 4.72294960e-01],\n",
       "       [3.66546107e-01, 6.33453893e-01],\n",
       "       [9.50406245e-01, 4.95937553e-02],\n",
       "       [3.91614118e-02, 9.60838588e-01],\n",
       "       [6.50044789e-01, 3.49955211e-01],\n",
       "       [3.63014222e-01, 6.36985778e-01],\n",
       "       [4.88590967e-02, 9.51140903e-01],\n",
       "       [9.99033710e-01, 9.66290029e-04],\n",
       "       [1.12928893e-01, 8.87071107e-01],\n",
       "       [4.93475371e-02, 9.50652463e-01],\n",
       "       [5.67240534e-01, 4.32759466e-01],\n",
       "       [4.98208011e-02, 9.50179199e-01],\n",
       "       [2.52938761e-01, 7.47061239e-01],\n",
       "       [2.86165443e-01, 7.13834557e-01],\n",
       "       [9.30136319e-01, 6.98636811e-02],\n",
       "       [6.66071819e-02, 9.33392818e-01],\n",
       "       [1.44764578e-01, 8.55235422e-01],\n",
       "       [1.83328143e-01, 8.16671857e-01],\n",
       "       [2.27076404e-01, 7.72923596e-01],\n",
       "       [7.56646613e-01, 2.43353387e-01],\n",
       "       [2.28885697e-01, 7.71114303e-01],\n",
       "       [9.79178584e-01, 2.08214163e-02],\n",
       "       [1.51014454e-02, 9.84898555e-01],\n",
       "       [3.46679574e-01, 6.53320426e-01],\n",
       "       [1.82674080e-01, 8.17325920e-01],\n",
       "       [2.43205103e-02, 9.75679490e-01],\n",
       "       [5.37491655e-01, 4.62508345e-01],\n",
       "       [4.97719577e-01, 5.02280423e-01],\n",
       "       [8.00245997e-01, 1.99754003e-01],\n",
       "       [5.75860716e-01, 4.24139284e-01],\n",
       "       [9.89597170e-01, 1.04028305e-02],\n",
       "       [2.00678917e-02, 9.79932108e-01],\n",
       "       [3.55850638e-01, 6.44149362e-01],\n",
       "       [9.22155888e-01, 7.78441121e-02],\n",
       "       [9.30570697e-01, 6.94293030e-02],\n",
       "       [2.09389658e-02, 9.79061034e-01],\n",
       "       [2.62830713e-01, 7.37169287e-01],\n",
       "       [4.32524855e-01, 5.67475145e-01],\n",
       "       [2.41343552e-01, 7.58656448e-01],\n",
       "       [9.74073571e-01, 2.59264290e-02],\n",
       "       [4.05898092e-01, 5.94101908e-01],\n",
       "       [9.51210722e-01, 4.87892782e-02],\n",
       "       [7.97820266e-01, 2.02179734e-01],\n",
       "       [5.62413760e-01, 4.37586240e-01],\n",
       "       [9.96343200e-01, 3.65680000e-03],\n",
       "       [5.12891469e-01, 4.87108531e-01],\n",
       "       [7.83122361e-01, 2.16877639e-01],\n",
       "       [4.34910570e-01, 5.65089430e-01],\n",
       "       [7.17894447e-01, 2.82105553e-01],\n",
       "       [1.05424214e-01, 8.94575786e-01],\n",
       "       [9.93107450e-01, 6.89255013e-03],\n",
       "       [9.95198842e-01, 4.80115793e-03],\n",
       "       [4.08264679e-01, 5.91735321e-01],\n",
       "       [5.56880818e-01, 4.43119182e-01],\n",
       "       [4.46705152e-01, 5.53294848e-01],\n",
       "       [2.28629212e-01, 7.71370788e-01],\n",
       "       [1.60134432e-01, 8.39865568e-01],\n",
       "       [5.46174844e-01, 4.53825156e-01],\n",
       "       [1.42656297e-02, 9.85734370e-01],\n",
       "       [2.47718910e-01, 7.52281090e-01],\n",
       "       [9.43964399e-01, 5.60356011e-02],\n",
       "       [9.61207652e-01, 3.87923478e-02],\n",
       "       [1.50051399e-02, 9.84994860e-01],\n",
       "       [2.63226320e-01, 7.36773680e-01],\n",
       "       [1.43451854e-01, 8.56548146e-01],\n",
       "       [9.54650382e-01, 4.53496177e-02],\n",
       "       [1.26779853e-01, 8.73220147e-01],\n",
       "       [2.39130231e-01, 7.60869769e-01],\n",
       "       [6.18718110e-01, 3.81281890e-01],\n",
       "       [9.71810658e-01, 2.81893416e-02],\n",
       "       [9.73795625e-01, 2.62043754e-02],\n",
       "       [7.20691326e-01, 2.79308674e-01],\n",
       "       [7.58198700e-02, 9.24180130e-01],\n",
       "       [1.97667840e-02, 9.80233216e-01],\n",
       "       [9.44556538e-01, 5.54434620e-02],\n",
       "       [8.37660061e-02, 9.16233994e-01],\n",
       "       [5.53536698e-01, 4.46463302e-01],\n",
       "       [6.57078066e-01, 3.42921934e-01],\n",
       "       [9.82420916e-01, 1.75790837e-02],\n",
       "       [2.44679810e-01, 7.55320190e-01],\n",
       "       [7.28345443e-01, 2.71654557e-01],\n",
       "       [4.06879490e-02, 9.59312051e-01],\n",
       "       [9.82757156e-01, 1.72428439e-02],\n",
       "       [3.90514014e-01, 6.09485986e-01],\n",
       "       [8.13999945e-01, 1.86000055e-01],\n",
       "       [2.45475066e-01, 7.54524934e-01],\n",
       "       [1.45440147e-01, 8.54559853e-01]])"
      ]
     },
     "execution_count": 10,
     "metadata": {},
     "output_type": "execute_result"
    }
   ],
   "source": [
    "Y_prob = cls.predict_proba(X)\n",
    "Y_prob"
   ]
  },
  {
   "cell_type": "code",
   "execution_count": 11,
   "metadata": {},
   "outputs": [
    {
     "data": {
      "text/plain": [
       "array([1, 1, 0, 0, 0, 1, 0, 0, 1, 1, 1, 0, 0, 0, 1, 0, 1, 1, 1, 0, 1, 1,\n",
       "       1, 0, 0, 1, 0, 0, 0, 1, 1, 1, 0, 1, 0, 1, 0, 0, 1, 0, 0, 1, 0, 0,\n",
       "       0, 1, 0, 0, 0, 0, 1, 0, 1, 0, 0, 0, 0, 1, 0, 1, 1, 1, 0, 0, 1, 1,\n",
       "       0, 0, 0, 0, 1, 0, 1, 1, 1, 1, 1, 1, 0, 1, 0, 1, 1, 0, 1, 0, 0, 0,\n",
       "       1, 0, 0, 1, 1, 0, 0, 0, 1, 0, 0, 1, 1, 1, 1, 0, 0, 1, 0, 1, 1, 1,\n",
       "       0, 1, 0, 1, 0, 1, 0, 0])"
      ]
     },
     "execution_count": 11,
     "metadata": {},
     "output_type": "execute_result"
    }
   ],
   "source": [
    "Y_hat = cls.predict(X)\n",
    "Y_hat"
   ]
  },
  {
   "cell_type": "code",
   "execution_count": 12,
   "metadata": {},
   "outputs": [
    {
     "data": {
      "text/plain": [
       "0.864406779661017"
      ]
     },
     "execution_count": 12,
     "metadata": {},
     "output_type": "execute_result"
    }
   ],
   "source": [
    "accuracy_score(Y, Y_hat)"
   ]
  },
  {
   "cell_type": "code",
   "execution_count": 13,
   "metadata": {},
   "outputs": [
    {
     "data": {
      "image/png": "[encoded data removed]",
      "text/plain": [
       "<Figure size 432x288 with 1 Axes>"
      ]
     },
     "metadata": {
      "needs_background": "light"
     },
     "output_type": "display_data"
    }
   ],
   "source": [
    "plot_data(X, Y)\n",
    "plot_surface(cls, X[:, 0], X[:, 1])"
   ]
  },
  {
   "cell_type": "markdown",
   "metadata": {},
   "source": [
    "Зверніть увагу на границю прийняття рішення. Модель старається побудувати складну криву, що може свідчити про її перетренування. Порівняйте отримані результати з класом з sklearn. Спробуйте додати нові шари для нашого класу та порівняти результати тоді. Поекспериментуйте з гіперпараметрами для обох класів."
   ]
  },
  {
   "cell_type": "code",
   "execution_count": 14,
   "metadata": {},
   "outputs": [],
   "source": [
    "from sklearn.neural_network import MLPClassifier\n",
    "clf = MLPClassifier(hidden_layer_sizes = (20,), max_iter = 10000, activation = 'relu', solver = 'sgd', learning_rate_init = 0.01, learning_rate = 'constant')"
   ]
  },
  {
   "cell_type": "code",
   "execution_count": 15,
   "metadata": {},
   "outputs": [
    {
     "data": {
      "text/plain": [
       "MLPClassifier(activation='relu', alpha=0.0001, batch_size='auto', beta_1=0.9,\n",
       "              beta_2=0.999, early_stopping=False, epsilon=1e-08,\n",
       "              hidden_layer_sizes=(20,), learning_rate='constant',\n",
       "              learning_rate_init=0.01, max_fun=15000, max_iter=10000,\n",
       "              momentum=0.9, n_iter_no_change=10, nesterovs_momentum=True,\n",
       "              power_t=0.5, random_state=None, shuffle=True, solver='sgd',\n",
       "              tol=0.0001, validation_fraction=0.1, verbose=False,\n",
       "              warm_start=False)"
      ]
     },
     "execution_count": 15,
     "metadata": {},
     "output_type": "execute_result"
    }
   ],
   "source": [
    "clf.fit(X, Y)"
   ]
  },
  {
   "cell_type": "code",
   "execution_count": 16,
   "metadata": {},
   "outputs": [
    {
     "data": {
      "image/png": "[encoded data removed]",
      "text/plain": [
       "<Figure size 432x288 with 1 Axes>"
      ]
     },
     "metadata": {
      "needs_background": "light"
     },
     "output_type": "display_data"
    }
   ],
   "source": [
    "plot_data(X, Y)\n",
    "plot_surface(clf, X[:, 0], X[:, 1])"
   ]
  },
  {
   "cell_type": "code",
   "execution_count": 17,
   "metadata": {},
   "outputs": [
    {
     "data": {
      "text/plain": [
       "0.8389830508474576"
      ]
     },
     "execution_count": 17,
     "metadata": {},
     "output_type": "execute_result"
    }
   ],
   "source": [
    "accuracy_score(Y, clf.predict(X))"
   ]
  }
 ],
 "metadata": {
  "anaconda-cloud": {},
  "kernelspec": {
   "display_name": "Python 3",
   "language": "python",
   "name": "python3"
  },
  "language_info": {
   "codemirror_mode": {
    "name": "ipython",
    "version": 3
   },
   "file_extension": ".py",
   "mimetype": "text/x-python",
   "name": "python",
   "nbconvert_exporter": "python",
   "pygments_lexer": "ipython3",
   "version": "3.8.0"
  }
 },
 "nbformat": 4,
 "nbformat_minor": 1
}